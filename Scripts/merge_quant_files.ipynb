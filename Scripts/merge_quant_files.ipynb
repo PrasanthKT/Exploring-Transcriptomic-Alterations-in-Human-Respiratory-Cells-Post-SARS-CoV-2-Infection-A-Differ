{
 "cells": [
  {
   "cell_type": "code",
   "execution_count": 1,
   "id": "7cb6b2df",
   "metadata": {},
   "outputs": [],
   "source": [
    "import os\n",
    "import pandas as pd"
   ]
  },
  {
   "cell_type": "code",
   "execution_count": 4,
   "id": "e2ea5f96",
   "metadata": {},
   "outputs": [
    {
     "name": "stdout",
     "output_type": "stream",
     "text": [
      "Successfully added SRR12375106 to the merged dataset.\n",
      "Successfully added SRR12375101 to the merged dataset.\n",
      "Successfully added SRR12375100 to the merged dataset.\n",
      "Successfully added SRR12375093 to the merged dataset.\n",
      "Successfully added SRR12375094 to the merged dataset.\n",
      "Successfully added SRR12375095 to the merged dataset.\n",
      "Successfully added SRR12375092 to the merged dataset.\n",
      "Successfully added SRR12375102 to the merged dataset.\n",
      "Successfully added SRR12375105 to the merged dataset.\n",
      "Successfully added SRR12375104 to the merged dataset.\n",
      "Successfully added SRR12375103 to the merged dataset.\n",
      "Successfully added SRR12375097 to the merged dataset.\n",
      "Successfully added SRR12375099 to the merged dataset.\n",
      "Successfully added SRR12375098 to the merged dataset.\n",
      "Successfully added SRR12375096 to the merged dataset.\n",
      "Merged quant.sf data (raw counts) saved to /Users/prasanthkumar/Desktop/Projects/RNA-Seq/quantification/merged_quant_counts.csv\n"
     ]
    }
   ],
   "source": [
    "base_dir = \"/Users/prasanthkumar/Desktop/Projects/RNA-Seq/quantification_1/salmon\"\n",
    "\n",
    "sample_dirs = [os.path.join(base_dir, d) for d in os.listdir(base_dir) if os.path.isdir(os.path.join(base_dir, d))]\n",
    "\n",
    "merged_data = {}\n",
    "\n",
    "for sample_dir in sample_dirs:\n",
    "    sample_id = os.path.basename(sample_dir)  \n",
    "    quant_file = os.path.join(sample_dir, \"quant.sf\") \n",
    "\n",
    "    if os.path.isfile(quant_file):\n",
    "        try:\n",
    "            df = pd.read_csv(quant_file, sep='\\t', usecols=[\"Name\", \"NumReads\"])\n",
    "            df.rename(columns={\"NumReads\": sample_id}, inplace=True)\n",
    "\n",
    "            if \"Name\" not in merged_data:\n",
    "                merged_data[\"Name\"] = df[\"Name\"] \n",
    "            merged_data[sample_id] = df[sample_id]\n",
    "\n",
    "            print(f\"Successfully added {sample_id} to the merged dataset.\")\n",
    "        except Exception as e:\n",
    "            print(f\"Error processing {quant_file}: {e}\")\n",
    "    else:\n",
    "        print(f\"quant.sf file not found in {sample_dir}, skipping.\")\n",
    "\n",
    "merged_df = pd.DataFrame(merged_data)\n",
    "\n",
    "output_file = \"/Users/prasanthkumar/Desktop/Projects/RNA-Seq/quantification/merged_quant_counts.csv\"\n",
    "merged_df.to_csv(output_file, index=False)\n",
    "\n",
    "print(f\"Merged quant.sf data (raw counts) saved to {output_file}\")"
   ]
  },
  {
   "cell_type": "code",
   "execution_count": 6,
   "id": "2b65d225",
   "metadata": {},
   "outputs": [
    {
     "name": "stdout",
     "output_type": "stream",
     "text": [
      "Successfully added SRR12375106 to the merged dataset.\n",
      "Successfully added SRR12375101 to the merged dataset.\n",
      "Successfully added SRR12375100 to the merged dataset.\n",
      "Successfully added SRR12375093 to the merged dataset.\n",
      "Successfully added SRR12375094 to the merged dataset.\n",
      "Successfully added SRR12375095 to the merged dataset.\n",
      "Successfully added SRR12375092 to the merged dataset.\n",
      "Successfully added SRR12375102 to the merged dataset.\n",
      "Successfully added SRR12375105 to the merged dataset.\n",
      "Successfully added SRR12375104 to the merged dataset.\n",
      "Successfully added SRR12375103 to the merged dataset.\n",
      "Successfully added SRR12375097 to the merged dataset.\n",
      "Successfully added SRR12375099 to the merged dataset.\n",
      "Successfully added SRR12375098 to the merged dataset.\n",
      "Successfully added SRR12375096 to the merged dataset.\n",
      "Merged abundance.tsv data (raw counts) saved to /Users/prasanthkumar/Desktop/Projects/RNA-Seq/quantification/Kallisto_filtered_merged_kallisto_counts.csv\n"
     ]
    }
   ],
   "source": [
    "base_dir = \"/Users/prasanthkumar/Desktop/Projects/RNA-Seq/quantification/kallisto_filtered\"\n",
    "\n",
    "sample_dirs = [os.path.join(base_dir, d) for d in os.listdir(base_dir) if os.path.isdir(os.path.join(base_dir, d))]\n",
    "\n",
    "merged_data = {}\n",
    "\n",
    "for sample_dir in sample_dirs:\n",
    "    sample_id = os.path.basename(sample_dir) \n",
    "    abundance_file = os.path.join(sample_dir, \"abundance.tsv\") \n",
    "\n",
    "    if os.path.isfile(abundance_file): \n",
    "        try:\n",
    "            df = pd.read_csv(abundance_file, sep='\\t', usecols=[\"target_id\", \"est_counts\"])\n",
    "            df.rename(columns={\"est_counts\": sample_id}, inplace=True)\n",
    "\n",
    "            if \"target_id\" not in merged_data:\n",
    "                merged_data[\"target_id\"] = df[\"target_id\"] \n",
    "            merged_data[sample_id] = df[sample_id]\n",
    "\n",
    "            print(f\"Successfully added {sample_id} to the merged dataset.\")\n",
    "        except Exception as e:\n",
    "            print(f\"Error processing {abundance_file}: {e}\")\n",
    "    else:\n",
    "        print(f\"abundance.tsv file not found in {sample_dir}, skipping.\")\n",
    "\n",
    "merged_df = pd.DataFrame(merged_data)\n",
    "\n",
    "output_file = \"/Users/prasanthkumar/Desktop/Projects/RNA-Seq/quantification/Kallisto_filtered_merged_kallisto_counts.csv\"\n",
    "merged_df.to_csv(output_file, index=False)\n",
    "\n",
    "print(f\"Merged abundance.tsv data (raw counts) saved to {output_file}\")"
   ]
  },
  {
   "cell_type": "code",
   "execution_count": null,
   "id": "39f40333",
   "metadata": {},
   "outputs": [],
   "source": []
  }
 ],
 "metadata": {
  "kernelspec": {
   "display_name": "Python 3 (ipykernel)",
   "language": "python",
   "name": "python3"
  },
  "language_info": {
   "codemirror_mode": {
    "name": "ipython",
    "version": 3
   },
   "file_extension": ".py",
   "mimetype": "text/x-python",
   "name": "python",
   "nbconvert_exporter": "python",
   "pygments_lexer": "ipython3",
   "version": "3.12.4"
  }
 },
 "nbformat": 4,
 "nbformat_minor": 5
}
